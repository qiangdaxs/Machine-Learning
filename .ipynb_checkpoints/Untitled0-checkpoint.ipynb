{
 "metadata": {
  "name": "",
  "signature": "sha256:f8fb590754bd65e763688870a40cc55022ac84ba7b97a2680d2f1d5d154c2ce8"
 },
 "nbformat": 3,
 "nbformat_minor": 0,
 "worksheets": [
  {
   "cells": [
    {
     "cell_type": "code",
     "collapsed": false,
     "input": [
      "import pytz\n",
      "from datetime import datetime\n",
      "\n",
      "from zipline.algorithm import TradingAlgorithm\n",
      "from zipline.utils.factory import load_bars_from_yahoo\n",
      "# Load data manually from Yahoo! finance\n",
      "start = datetime(2000, 1, 1, 0, 0, 0, 0, pytz.utc)\n",
      "end = datetime(2012, 1, 1, 0, 0, 0, 0, pytz.utc)\n",
      "data = load_bars_from_yahoo(stocks=['AAPL'], start=start,\n",
      "                            end=end)\n",
      "\n",
      "# Define algorithm\n",
      "def initialize(context):\n",
      "    pass\n",
      "\n",
      "def handle_data(context, data):\n",
      "    order(symbol('AAPL'), 10)\n",
      "    record(AAPL=data[symbol('AAPL')].price)\n",
      "\n",
      "# Create algorithm object passing in initialize and\n",
      "# handle_data functions\n",
      "algo_obj = TradingAlgorithm(initialize=initialize, \n",
      "                            handle_data=handle_data)\n",
      "\n",
      "# Run algorithm"
     ],
     "language": "python",
     "metadata": {},
     "outputs": [
      {
       "output_type": "stream",
       "stream": "stdout",
       "text": [
        "AAPL\n"
       ]
      }
     ],
     "prompt_number": 2
    },
    {
     "cell_type": "code",
     "collapsed": false,
     "input": [
      "data"
     ],
     "language": "python",
     "metadata": {},
     "outputs": [
      {
       "metadata": {},
       "output_type": "pyout",
       "prompt_number": 10,
       "text": [
        "<class 'pandas.core.panel.Panel'>\n",
        "Dimensions: 1 (items) x 3019 (major_axis) x 6 (minor_axis)\n",
        "Items axis: AAPL to AAPL\n",
        "Major_axis axis: 2000-01-03 00:00:00+00:00 to 2011-12-30 00:00:00+00:00\n",
        "Minor_axis axis: open to price"
       ]
      }
     ],
     "prompt_number": 10
    },
    {
     "cell_type": "code",
     "collapsed": false,
     "input": [],
     "language": "python",
     "metadata": {},
     "outputs": []
    }
   ],
   "metadata": {}
  }
 ]
}