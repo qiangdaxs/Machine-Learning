{
 "metadata": {
  "name": "",
  "signature": "sha256:0c249d53af14834e1817f8240e965efc02955368d3f9a0b0d0730b0bc1b829fe"
 },
 "nbformat": 3,
 "nbformat_minor": 0,
 "worksheets": [
  {
   "cells": [
    {
     "cell_type": "code",
     "collapsed": false,
     "input": [
      "import pytz\n",
      "from datetime import datetime\n",
      "\n",
      "from zipline.algorithm import TradingAlgorithm\n",
      "from zipline.utils.factory import load_bars_from_yahoo\n",
      "# Load data manually from Yahoo! finance\n",
      "start = datetime(2000, 1, 1, 0, 0, 0, 0, pytz.utc)\n",
      "end = datetime(2012, 1, 1, 0, 0, 0, 0, pytz.utc)\n",
      "data = load_bars_from_yahoo(stocks=['AAPL'], start=start,\n",
      "                            end=end)\n",
      "\n",
      "# Define algorithm\n",
      "def initialize(context):\n",
      "    pass\n",
      "\n",
      "def handle_data(context, data):\n",
      "    order(symbol('AAPL'), 10)\n",
      "    record(AAPL=data[symbol('AAPL')].price)\n",
      "\n",
      "# Create algorithm object passing in initialize and\n",
      "# handle_data functions\n",
      "algo_obj = TradingAlgorithm(initialize=initialize, \n",
      "                            handle_data=handle_data)\n",
      "\n",
      "# Run algorithm"
     ],
     "language": "python",
     "metadata": {},
     "outputs": [
      {
       "output_type": "stream",
       "stream": "stdout",
       "text": [
        "AAPL\n"
       ]
      }
     ],
     "prompt_number": 2
    },
    {
     "cell_type": "code",
     "collapsed": false,
     "input": [
      "data"
     ],
     "language": "python",
     "metadata": {},
     "outputs": [
      {
       "metadata": {},
       "output_type": "pyout",
       "prompt_number": 10,
       "text": [
        "<class 'pandas.core.panel.Panel'>\n",
        "Dimensions: 1 (items) x 3019 (major_axis) x 6 (minor_axis)\n",
        "Items axis: AAPL to AAPL\n",
        "Major_axis axis: 2000-01-03 00:00:00+00:00 to 2011-12-30 00:00:00+00:00\n",
        "Minor_axis axis: open to price"
       ]
      }
     ],
     "prompt_number": 10
    },
    {
     "cell_type": "code",
     "collapsed": false,
     "input": [
      "%load a.py"
     ],
     "language": "python",
     "metadata": {},
     "outputs": [],
     "prompt_number": 11
    },
    {
     "cell_type": "code",
     "collapsed": false,
     "input": [
      "#!/usr/bin/env python2.7\n",
      "'''a.py\n",
      "'''\n",
      "\n",
      "\n",
      "__author__ = 'fantasy <pkuqiuning@gmail.com>'\n",
      "__created__ = '2015-05-15 16:00:29 -0400'\n",
      "\n",
      "# Import Zipline, the open source backester, and a few other libraries that we will use\n",
      "import zipline\n",
      "from zipline.api import order_target_percent, record, symbol, history, add_history, get_datetime\n",
      "from zipline import TradingAlgorithm\n",
      "from zipline.utils.factory import load_bars_from_yahoo\n",
      "\n",
      "import pytz\n",
      "from datetime import datetime\n",
      "import matplotlib.pyplot as pyplot\n",
      "import numpy as np\n",
      "# Load data from get_trades for AAPL\n",
      "import pandas as pd\n",
      "\n",
      "\n",
      "############### local / quantopian switch ############################\n",
      "#ind_data = local_csv('DLTR.csv', date_column = 'harvested_at', use_date_column_as_index = True)\n",
      "ind_data = pd.read_csv('DLTR.csv', index_col = 'harvested_at', parse_dates=True)\n",
      "######################################################################\n",
      "stocks = ['DLTR', 'GOOGL', 'SPY']\n",
      "\n",
      "\n",
      "def initialize(context):\n",
      "    ############### local / quantopian switch ############################\n",
      "    #context.stocks = symbols(stocks)\n",
      "    context.stocks = stocks\n",
      "    ######################################################################\n",
      "    context.upper_bound = 0.35\n",
      "    context.lower_bound = -0.35\n",
      "\n",
      "\n",
      "def handle_data(context, data):\n",
      "    #now_minute = get_datetime().strftime('%Y-%m-%d %H:%M')\n",
      "    now_minute = get_datetime().strftime('%Y-%m-%d')\n",
      "    #print(now_minute)\n",
      "    #for i, v in ind['2012-12-12'].iterrows():\n",
      "    #print(ind_data[now_minute])\n",
      "    #for i, v in ind_data[now_minute].iterrows():\n",
      "    for i, v in ind_data[now_minute].iterrows():\n",
      "        #print(i)\n",
      "        stock = v['entities_ticker_1']\n",
      "        if stock in context.stocks:\n",
      "            if (v['article_sentiment'] > context.upper_bound):\n",
      "                order_target_percent(stock, 0.1)\n",
      "                record(trade = 1)\n",
      "            elif (v['article_sentiment'] < context.lower_bound):\n",
      "                order_target_percent(stock, -0.1)\n",
      "                record(trade = -1)\n",
      "\n",
      "\n",
      "start = '2012-8-25'\n",
      "end = '2015-2-19'\n",
      "############### local / quantopian switch ############################\n",
      "# quantopian\n",
      "#data = get_pricing(stocks, frequency='daily', start_date=start, end_date=end)\n",
      "\n",
      "# local\n",
      "start = datetime.strptime(start, '%Y-%m-%d')\n",
      "end = datetime.strptime(end, '%Y-%m-%d')\n",
      "data = load_bars_from_yahoo(stocks=stocks, start=start, end=end)\n",
      "######################################################################\n",
      "\n",
      "\n",
      "# Run algorithm\n",
      "algo_obj = TradingAlgorithm(initialize=initialize, handle_data=handle_data)\n",
      "############### local / quantopian switch ############################\n",
      "#algo_obj.run(data.transpose(2, 1, 0))\n",
      "algo_obj.run(data)\n",
      "######################################################################\n"
     ],
     "language": "python",
     "metadata": {},
     "outputs": []
    },
    {
     "cell_type": "code",
     "collapsed": false,
     "input": [],
     "language": "python",
     "metadata": {},
     "outputs": []
    }
   ],
   "metadata": {}
  }
 ]
}